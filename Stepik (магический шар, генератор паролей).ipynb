{
 "cells": [
  {
   "cell_type": "code",
   "execution_count": 1,
   "id": "cfd0add4",
   "metadata": {},
   "outputs": [
    {
     "name": "stdout",
     "output_type": "stream",
     "text": [
      "4\n",
      "8\n",
      "5\n",
      "10\n",
      "3\n",
      "2\n",
      "2\n"
     ]
    }
   ],
   "source": [
    "# Задачка из яндек стажировки.\n",
    "\n",
    "n, t = int(input()), int(input())\n",
    "a = []\n",
    "otvet = 0\n",
    "for i in range(n):\n",
    " b = int(input())\n",
    " a.append(b)\n",
    "\n",
    "for i in range(len(a)):\n",
    "    if (t - a[i]) > 0:\n",
    "        otvet += 1\n",
    "        t -= a[i]\n",
    "    else:\n",
    "        continue\n",
    "print(otvet)"
   ]
  },
  {
   "cell_type": "code",
   "execution_count": null,
   "id": "397ec800",
   "metadata": {},
   "outputs": [
    {
     "name": "stdout",
     "output_type": "stream",
     "text": [
      "Привет Мир, я магический шар, и я знаю ответ на любой твой вопрос.\n",
      "Как вас зовут?\n",
      "Евгения\n",
      "Привет, Евгения\n",
      "Задайте вопрос. Что вас интересует?\n",
      "Я стану инженером МЛ?\n",
      "Бесспорно\n",
      "Хотите задать еще один вопрос? да/нет:\n",
      "да\n",
      "Привет Мир, я магический шар, и я знаю ответ на любой твой вопрос.\n",
      "Как вас зовут?\n"
     ]
    }
   ],
   "source": [
    "# Степик магический шаг.\n",
    "\n",
    "import random\n",
    "\n",
    "answers = [\"Бесспорно\", \"Мне кажется - да\", \"Пока неясно, попробуй снова\", \"Даже не думай\",\n",
    "           \"Предрешено\", \"Вероятнее всего\", \"Спроси позже\", \"Мой ответ - нет\",\n",
    "           \"Никаких сомнений\", \"Хорошие перспективы\", \"Лучше не рассказывать\", \"По моим данным - нет\",\n",
    "           \"Можешь быть уверен в этом\", \"Да\", \"Сконцентрируйся и спроси опять\", \"Весьма сомнительно\"]\n",
    "def magic_globe():\n",
    "    print('Привет Мир, я магический шар, и я знаю ответ на любой твой вопрос.')\n",
    "    print('Как вас зовут?')\n",
    "    name = input()\n",
    "    print('Привет,', name)\n",
    "    print('Задайте вопрос. Что вас интересует?')\n",
    "    qstn = input()\n",
    "    x = random.randrange(len(answers))\n",
    "    print(answers[x])\n",
    "    print('Хотите задать еще один вопрос? да/нет:')\n",
    "    y = input()\n",
    "    if y == 'да':\n",
    "        magic_globe()\n",
    "    else:\n",
    "        print('До скорых встреч!')\n",
    "\n",
    "magic_globe()\n"
   ]
  },
  {
   "cell_type": "code",
   "execution_count": 1,
   "id": "80b10a0d",
   "metadata": {},
   "outputs": [
    {
     "name": "stdout",
     "output_type": "stream",
     "text": [
      "Укажите количество паролей для генерации:3\n",
      "Укажите длину одного пароля:7\n",
      "Включать ли цифры 0123456789? (y/n):y\n",
      "Включать ли прописные буквы ABCDEFGHIJKLMNOPQRSTUVWXYZ? (y/n):y\n",
      "Включать ли строчные буквы abcdefghijklmnopqrstuvwxyz? (y/n):y\n",
      "Включать ли символы !#$%&*+-=?@^_? (y/n):y\n",
      "Исключать ли неоднозначные символы il1Lo0O? (y/n):y\n",
      "[['t', 'R', 'd', 'A', 'N', 'm', 'M'], ['5', 'X', 'X', '+', 'E', '$', '^'], ['b', 'S', 'H', 'd', 'N', 'I', '9']]\n"
     ]
    }
   ],
   "source": [
    "# Генератор паролей\n",
    "import random\n",
    "\n",
    "digits = '0123456789'\n",
    "lowercase_letters = 'abcdefghijklmnopqrstuvwxyz'\n",
    "uppercase_letters = 'ABCDEFGHIJKLMNOPQRSTUVWXYZ'\n",
    "punctuation = '!#$%&*+-=?@^_'\n",
    "\n",
    "chars = ''\n",
    "total_list = ''\n",
    "\n",
    "cntPw = input('Укажите количество паролей для генерации:')\n",
    "lenPw = input('Укажите длину одного пароля:')\n",
    "digOn = input('Включать ли цифры 0123456789? (y/n):')\n",
    "ABCon = input('Включать ли прописные буквы ABCDEFGHIJKLMNOPQRSTUVWXYZ? (y/n):')\n",
    "abcOn = input('Включать ли строчные буквы abcdefghijklmnopqrstuvwxyz? (y/n):')\n",
    "chOn = input('Включать ли символы !#$%&*+-=?@^_? (y/n):')\n",
    "excOn = input('Исключать ли неоднозначные символы il1Lo0O? (y/n):')\n",
    "\n",
    "if digOn == 'y':\n",
    "    chars =chars + digits\n",
    "if ABCon == 'y':\n",
    "    chars = chars + uppercase_letters\n",
    "if abcOn == 'y':\n",
    "    chars = chars + lowercase_letters\n",
    "if chOn == 'y':\n",
    "    chars = chars + punctuation\n",
    "if excOn == 'y':\n",
    "    for i in 'il1LoO0':\n",
    "        chars = chars.replace(i, '')\n",
    "\n",
    "pass_words = []\n",
    "\n",
    "for j in range(int(cntPw)):\n",
    "    c = random.choices(chars, k = int(lenPw))\n",
    "    pass_words.append(c)\n",
    "\n",
    "print(pass_words )"
   ]
  },
  {
   "cell_type": "code",
   "execution_count": null,
   "id": "9cb09fd8",
   "metadata": {},
   "outputs": [],
   "source": []
  }
 ],
 "metadata": {
  "kernelspec": {
   "display_name": "Python 3 (ipykernel)",
   "language": "python",
   "name": "python3"
  },
  "language_info": {
   "codemirror_mode": {
    "name": "ipython",
    "version": 3
   },
   "file_extension": ".py",
   "mimetype": "text/x-python",
   "name": "python",
   "nbconvert_exporter": "python",
   "pygments_lexer": "ipython3",
   "version": "3.11.7"
  }
 },
 "nbformat": 4,
 "nbformat_minor": 5
}
