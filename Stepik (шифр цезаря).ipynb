{
 "cells": [
  {
   "cell_type": "code",
   "execution_count": 2,
   "id": "d8f06edb",
   "metadata": {},
   "outputs": [
    {
     "name": "stdout",
     "output_type": "stream",
     "text": [
      "шифр/дешифр:шифр\n",
      "Шаг сдвига:10\n",
      "Введите строку:Блажен, кто верует, тепло ему на свете!\n",
      "Лхкрпч, фьш мпъэпь, ьпщхш пцэ чк ымпьп!\n"
     ]
    }
   ],
   "source": [
    "encrypt_or_decrypt = input('шифр/дешифр:')\n",
    "k = int(input('Шаг сдвига:'))\n",
    "\n",
    "\n",
    "str_ = input('Введите строку:')\n",
    "str_new = ''\n",
    "\n",
    "if encrypt_or_decrypt.lower() == 'шифр':\n",
    "    for i in range(len(str_)):\n",
    "        if str_[i].isalpha():\n",
    "            str_new = str_new + (chr(ord(str_[i]) + k))\n",
    "        else:\n",
    "            str_new = str_new + str_[i]\n",
    "    print(str_new)"
   ]
  },
  {
   "cell_type": "code",
   "execution_count": 22,
   "id": "ffc0d9a2",
   "metadata": {},
   "outputs": [
    {
     "name": "stdout",
     "output_type": "stream",
     "text": [
      "шифр/дешифр:шифр\n",
      "Шаг сдвига:17\n",
      "Введите строку:To be, or not to be, that is the question!\n",
      "Kf sv, fi efk kf sv, kyrk zj kyv hlvjkzfe!\n"
     ]
    }
   ],
   "source": [
    "encrypt_or_decrypt = input('шифр/дешифр:')\n",
    "k = int(input('Шаг сдвига:'))\n",
    "\n",
    "\n",
    "str_ = input('Введите строку:')\n",
    "str_new = ''\n",
    "\n",
    "if encrypt_or_decrypt.lower() == 'шифр':\n",
    "    for i in range(len(str_)):\n",
    "        if str_[i].isalpha():\n",
    "            a = ord(str_[i])\n",
    "            if 65 <= (a) <= 90:\n",
    "                if (a + k) > 90:\n",
    "                    a = a - 26\n",
    "                    str_new = str_new + chr(a + k)\n",
    "                elif (a + k) <= 90:\n",
    "                    str_new = str_new + (chr(ord(str_[i]) + k))\n",
    "                    \n",
    "            elif 97 <= (a) <= 122:\n",
    "                if (a + k) > 122:\n",
    "                    a = a - 26\n",
    "                    str_new = str_new + chr(a + k)\n",
    "                elif (a + k) <= 122:\n",
    "                    str_new = str_new + (chr(ord(str_[i]) + k))\n",
    "                             \n",
    "        else:\n",
    "            str_new = str_new + str_[i]\n",
    "            \n",
    "    print(str_new)"
   ]
  },
  {
   "cell_type": "code",
   "execution_count": 27,
   "id": "a3a78b9f",
   "metadata": {},
   "outputs": [
    {
     "name": "stdout",
     "output_type": "stream",
     "text": [
      "шифр/дешифр:дешифр\n",
      "Шаг сдвига:7\n",
      "Введите строку:Шсъцхр щмчжмщ йшм, нмтзж йшм лхшщзщг.\n",
      "Скупой теряет все, желая все достать.\n"
     ]
    }
   ],
   "source": [
    "encrypt_or_decrypt = input('шифр/дешифр:')\n",
    "k = int(input('Шаг сдвига:'))\n",
    "\n",
    "\n",
    "str_ = input('Введите строку:')\n",
    "str_new = ''\n",
    "\n",
    "if encrypt_or_decrypt.lower() == 'шифр':\n",
    "    for i in range(len(str_)):\n",
    "        if str_[i].isalpha():\n",
    "            a = ord(str_[i])\n",
    "            if 65 <= (a) <= 90:\n",
    "                if (a + k) > 90:\n",
    "                    a = a - 26\n",
    "                    str_new = str_new + chr(a + k)\n",
    "                elif (a + k) <= 90:\n",
    "                    str_new = str_new + (chr(ord(str_[i]) + k))\n",
    "                    \n",
    "            elif 97 <= (a) <= 122:\n",
    "                if (a + k) > 122:\n",
    "                    a = a - 26\n",
    "                    str_new = str_new + chr(a + k)\n",
    "                elif (a + k) <= 122:\n",
    "                    str_new = str_new + (chr(ord(str_[i]) + k))\n",
    "                             \n",
    "        else:\n",
    "            str_new = str_new + str_[i]\n",
    "            \n",
    "elif encrypt_or_decrypt.lower() == 'дешифр':\n",
    "    for i in range(len(str_)):\n",
    "        if str_[i].isalpha():\n",
    "            a = ord(str_[i])\n",
    "            if 1040 <= a <= 1071:\n",
    "                if (a - k) < 1040:\n",
    "                    a = a + 3\n",
    "                    str_new = str_new + chr(a - k)\n",
    "                elif (a - k) >= 1040:\n",
    "                    str_new = str_new + (chr(ord(str_[i]) - k))\n",
    "                    \n",
    "            elif  1072 <= a <= 1103:\n",
    "                if (a - k) < 1072:\n",
    "                    a = a + 32\n",
    "                    str_new = str_new + chr(a - k)\n",
    "                elif (a - k) >= 1072:\n",
    "                    str_new = str_new + (chr(ord(str_[i]) - k))\n",
    "                \n",
    "        else:\n",
    "            str_new = str_new + str_[i]\n",
    "            \n",
    "    print(str_new)"
   ]
  },
  {
   "cell_type": "code",
   "execution_count": 29,
   "id": "26390d36",
   "metadata": {},
   "outputs": [
    {
     "name": "stdout",
     "output_type": "stream",
     "text": [
      "шифр/дешифр:дешифр\n",
      "Шаг сдвига:25\n",
      "Введите строку:Sgd fqzrr hr zkvzxr fqddmdq nm sgd nsgdq rhcd ne sgd edmbd.\n",
      "The grass is always greener on the other side of the fence.\n"
     ]
    }
   ],
   "source": [
    "encrypt_or_decrypt = input('шифр/дешифр:')\n",
    "k = int(input('Шаг сдвига:'))\n",
    "\n",
    "\n",
    "str_ = input('Введите строку:')\n",
    "str_new = ''\n",
    "\n",
    "if encrypt_or_decrypt.lower() == 'шифр':\n",
    "    for i in range(len(str_)):\n",
    "        if str_[i].isalpha():\n",
    "            a = ord(str_[i])\n",
    "            if 65 <= (a) <= 90:\n",
    "                if (a + k) > 90:\n",
    "                    a = a - 26\n",
    "                    str_new = str_new + chr(a + k)\n",
    "                elif (a + k) <= 90:\n",
    "                    str_new = str_new + (chr(ord(str_[i]) + k))\n",
    "                    \n",
    "            elif 97 <= (a) <= 122:\n",
    "                if (a + k) > 122:\n",
    "                    a = a - 26\n",
    "                    str_new = str_new + chr(a + k)\n",
    "                elif (a + k) <= 122:\n",
    "                    str_new = str_new + (chr(ord(str_[i]) + k))\n",
    "                             \n",
    "        else:\n",
    "            str_new = str_new + str_[i]\n",
    "            \n",
    "elif encrypt_or_decrypt.lower() == 'дешифр':\n",
    "    for i in range(len(str_)):\n",
    "        if str_[i].isalpha():\n",
    "            a = ord(str_[i])\n",
    "            if 1040 <= a <= 1071:\n",
    "                if (a - k) < 1040:\n",
    "                    a = a + 3\n",
    "                    str_new = str_new + chr(a - k)\n",
    "                elif (a - k) >= 1040:\n",
    "                    str_new = str_new + (chr(ord(str_[i]) - k))\n",
    "                    \n",
    "            elif  1072 <= a <= 1103:\n",
    "                if (a - k) < 1072:\n",
    "                    a = a + 32\n",
    "                    str_new = str_new + chr(a - k)\n",
    "                elif (a - k) >= 1072:\n",
    "                    str_new = str_new + (chr(ord(str_[i]) - k))\n",
    "                    \n",
    "            elif 65 <= (a) <= 90:\n",
    "                if (a - k) < 65:\n",
    "                    a = a + 26\n",
    "                    str_new = str_new + chr(a - k)\n",
    "                elif (a - k) >= 65:\n",
    "                    str_new = str_new + (chr(ord(str_[i]) - k))\n",
    "                    \n",
    "            elif 97 <= (a) <= 122:\n",
    "                if (a - k) < 97:\n",
    "                    a = a + 26\n",
    "                    str_new = str_new + chr(a - k)\n",
    "                elif (a - k) >= 97:\n",
    "                    str_new = str_new + (chr(ord(str_[i]) - k))\n",
    "                \n",
    "        else:\n",
    "            str_new = str_new + str_[i]\n",
    "            \n",
    "    print(str_new)"
   ]
  },
  {
   "cell_type": "code",
   "execution_count": 31,
   "id": "964c97ca",
   "metadata": {},
   "outputs": [
    {
     "name": "stdout",
     "output_type": "stream",
     "text": [
      "Введите фразу:Hawnj pk swhg xabkna ukq nqj.\n",
      "Hawnj pk swhg xabkna ukq nqj.\n",
      "Gzvmi oj rvgf wzajmz tjp mpi.\n",
      "Fyulh ni qufe vyzily sio loh.\n",
      "Extkg mh pted uxyhkx rhn kng.\n",
      "Dwsjf lg osdc twxgjw qgm jmf.\n",
      "Cvrie kf nrcb svwfiv pfl ile.\n",
      "Buqhd je mqba ruvehu oek hkd.\n",
      "Atpgc id lpaz qtudgt ndj gjc.\n",
      "Zsofb hc kozy pstcfs mci fib.\n",
      "Yrnea gb jnyx orsber lbh eha.\n",
      "Xqmdz fa imxw nqradq kag dgz.\n",
      "Wplcy ez hlwv mpqzcp jzf cfy.\n",
      "Vokbx dy gkvu lopybo iye bex.\n",
      "Unjaw cx fjut knoxan hxd adw.\n",
      "Tmizv bw eits jmnwzm gwc zcv.\n",
      "Slhyu av dhsr ilmvyl fvb ybu.\n",
      "Rkgxt zu cgrq hkluxk eua xat.\n",
      "Qjfws yt bfqp gjktwj dtz wzs.\n",
      "Pievr xs aepo fijsvi csy vyr.\n",
      "Ohduq wr zdon ehiruh brx uxq.\n",
      "Ngctp vq ycnm dghqtg aqw twp.\n",
      "Mfbso up xbml cfgpsf zpv svo.\n",
      "Learn to walk before you run.\n",
      "Kdzqm sn vzkj adenqd xnt qtm.\n",
      "Jcypl rm uyji zcdmpc wms psl.\n"
     ]
    }
   ],
   "source": [
    "s = input('Введите фразу:')\n",
    "\n",
    "d = 'abcdefghijklmnopqrstuvwxyz'\n",
    "\n",
    "for k in range(25):\n",
    "    b = ''\n",
    "    for i in range(len(s)):\n",
    "        if not s[i].isalpha():\n",
    "            b += s[i]\n",
    "        else:\n",
    "            if s[i].isupper():\n",
    "                b += (d[d.find(s[i].lower())-k]).upper()\n",
    "            else:\n",
    "                b += d[d.find(s[i].lower())-k]\n",
    "    print(b)"
   ]
  },
  {
   "cell_type": "code",
   "execution_count": 22,
   "id": "0cbf1957",
   "metadata": {},
   "outputs": [
    {
     "name": "stdout",
     "output_type": "stream",
     "text": [
      "Day, mice. \"Year\" is a mistake!\n",
      "Gdb, qmgi. \"Djfw\" jt a tp`ahrl!\n"
     ]
    }
   ],
   "source": [
    "def shifer_slov():\n",
    "    str = input().split()\n",
    "    str_new = ''\n",
    "    for i in range(len(str)):\n",
    "        a = len(str[i])\n",
    "        for j in range(a):\n",
    "            if str[i][j].isalpha():\n",
    "                number = ord(str[i][j])\n",
    "                if 65 <= number <= 90:\n",
    "                    if (number + a) > 90:\n",
    "                        number = number - 26\n",
    "                        str_new = str_new + chr(number + a)\n",
    "                    elif (number + a) <= 90:\n",
    "                        str_new = str_new + (chr(number + a))\n",
    "                    \n",
    "                elif 97 <= (number) <= 122:\n",
    "                    if (number + a) > 122:\n",
    "                        number = number - 26\n",
    "                        str_new = str_new + chr(number + a)\n",
    "                    elif (number + a) <= 122:\n",
    "                        str_new = str_new + (chr(number + a))\n",
    "                    \n",
    "            else:\n",
    "                str_new = str_new + str[i][j]\n",
    "        str_new = str_new + ' '\n",
    "    print(str_new.rstrip())\n",
    "\n",
    "shifer_slov()"
   ]
  },
  {
   "cell_type": "code",
   "execution_count": 6,
   "id": "a21edfac",
   "metadata": {},
   "outputs": [
    {
     "name": "stdout",
     "output_type": "stream",
     "text": [
      "65\n",
      "97\n",
      "90\n",
      "122\n"
     ]
    }
   ],
   "source": [
    "print(ord('A'))\n",
    "print(ord('a'))\n",
    "print(ord('Z'))\n",
    "print(ord('z'))"
   ]
  },
  {
   "cell_type": "code",
   "execution_count": 23,
   "id": "d6e70650",
   "metadata": {},
   "outputs": [
    {
     "name": "stdout",
     "output_type": "stream",
     "text": [
      "1040\n",
      "1071\n",
      "1072\n",
      "1103\n"
     ]
    }
   ],
   "source": [
    "print(ord('А'))\n",
    "print(ord('Я'))\n",
    "print(ord('а'))\n",
    "print(ord('я'))"
   ]
  }
 ],
 "metadata": {
  "kernelspec": {
   "display_name": "Python 3 (ipykernel)",
   "language": "python",
   "name": "python3"
  },
  "language_info": {
   "codemirror_mode": {
    "name": "ipython",
    "version": 3
   },
   "file_extension": ".py",
   "mimetype": "text/x-python",
   "name": "python",
   "nbconvert_exporter": "python",
   "pygments_lexer": "ipython3",
   "version": "3.11.7"
  }
 },
 "nbformat": 4,
 "nbformat_minor": 5
}
