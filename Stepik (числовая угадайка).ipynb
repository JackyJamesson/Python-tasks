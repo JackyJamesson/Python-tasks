{
 "cells": [
  {
   "cell_type": "code",
   "execution_count": 3,
   "id": "cf86a432",
   "metadata": {},
   "outputs": [
    {
     "name": "stdout",
     "output_type": "stream",
     "text": [
      "3\n"
     ]
    }
   ],
   "source": [
    "import random\n",
    "\n",
    "x = random.randint(1, 100)\n",
    "\n",
    "print(x)"
   ]
  },
  {
   "cell_type": "code",
   "execution_count": 4,
   "id": "51b86a27",
   "metadata": {},
   "outputs": [
    {
     "name": "stdout",
     "output_type": "stream",
     "text": [
      "5.6\n",
      "False\n"
     ]
    }
   ],
   "source": [
    "import random\n",
    "\n",
    "def is_valid(x):\n",
    "    if x.isdigit() and 1<= int(x) <= 100:\n",
    "        return True\n",
    "    else:\n",
    "        return False\n",
    "    \n",
    "x = input()\n",
    "print(is_valid(x))"
   ]
  },
  {
   "cell_type": "code",
   "execution_count": 18,
   "id": "db5372b5",
   "metadata": {},
   "outputs": [
    {
     "name": "stdout",
     "output_type": "stream",
     "text": [
      "Введите число от 1 до 100:50\n",
      "Ваше число больше загаданного. Попробуйте еще раз.\n",
      "Введите число от 1 до 100:25\n",
      "Ваше число меньше загаданного. Попробуйте еще раз.\n",
      "Введите число от 1 до 100:37\n",
      "Ваше число больше загаданного. Попробуйте еще раз.\n",
      "Введите число от 1 до 100:30\n",
      "Ваше число меньше загаданного. Попробуйте еще раз.\n",
      "Введите число от 1 до 100:34\n",
      "Ваше число меньше загаданного. Попробуйте еще раз.\n",
      "Введите число от 1 до 100:35\n",
      "Ваше число меньше загаданного. Попробуйте еще раз.\n",
      "Введите число от 1 до 100:36\n",
      "Верно! Поздравляем!\n",
      "Вы угадали за 7 попыток.\n"
     ]
    }
   ],
   "source": [
    "import random\n",
    "\n",
    "x = random.randint(1, 100)\n",
    "\n",
    "def is_valid(y):\n",
    "    if y.isdigit() and 1<= int(y) <= 100:\n",
    "        print('Хорошее число!')\n",
    "    else:\n",
    "        print('Нужно ввести целое число.')\n",
    "flag = False\n",
    "counter = 0\n",
    "while flag != True:\n",
    "    y = input('Введите число от 1 до 100')\n",
    "    counter += 1\n",
    "    if int(y) > x:\n",
    "        print('Ваше число больше загаданного. Попробуйте еще раз.')\n",
    "    elif int(y) < x:\n",
    "        print('Ваше число меньше загаданного. Попробуйте еще раз.')\n",
    "    else:\n",
    "        print('Верно! Поздравляем!')\n",
    "        flag = True\n",
    "        print('Вы угадали за', counter, 'попыток.')"
   ]
  },
  {
   "cell_type": "code",
   "execution_count": null,
   "id": "3278f6c4",
   "metadata": {},
   "outputs": [
    {
     "name": "stdout",
     "output_type": "stream",
     "text": [
      "Добро пожаловать в угадайку!\n",
      "Задайте диапазон от 1 до:150\n",
      "Введите число от 1 до 150:100\n",
      "Ваше число больше загаданного. Попробуйте еще раз.\n",
      "Введите число от 1 до 150:50\n",
      "Ваше число меньше загаданного. Попробуйте еще раз.\n",
      "Введите число от 1 до 150:75\n",
      "Ваше число меньше загаданного. Попробуйте еще раз.\n",
      "Введите число от 1 до 150:85\n",
      "Ваше число меньше загаданного. Попробуйте еще раз.\n",
      "Введите число от 1 до 150:95\n",
      "Ваше число больше загаданного. Попробуйте еще раз.\n",
      "Введите число от 1 до 150:90\n",
      "Ваше число больше загаданного. Попробуйте еще раз.\n",
      "Введите число от 1 до 150:87\n",
      "Верно! Поздравляем!\n",
      "Вы угадали за 7 попыток.\n",
      "Сыграем еще?\n",
      "да/нет:да\n",
      "Добро пожаловать в угадайку!\n"
     ]
    }
   ],
   "source": [
    "import random\n",
    "\n",
    "\n",
    "def game_game():\n",
    "    x = 0\n",
    "    counter = 0\n",
    "    print('Добро пожаловать в угадайку!')\n",
    "    n = int(input('Задайте диапазон от 1 до:'))\n",
    "    x = random.randint(1, n)\n",
    "    flag1 = False\n",
    "    while flag1 != True:\n",
    "        y = input(f'Введите число от 1 до {n}:')\n",
    "        counter += 1\n",
    "        if int(y) > x:\n",
    "            print('Ваше число больше загаданного. Попробуйте еще раз.')\n",
    "        elif int(y) < x:\n",
    "            print('Ваше число меньше загаданного. Попробуйте еще раз.')\n",
    "        else:\n",
    "            print('Верно! Поздравляем!')\n",
    "            flag1 = True\n",
    "            print('Вы угадали за', counter, 'попыток.')\n",
    "    print('Сыграем еще?')\n",
    "    z = input('да/нет:')\n",
    "    if z == 'да':\n",
    "        flag1 = False\n",
    "        counter = 0\n",
    "        х = 0\n",
    "        game_game()\n",
    "    else:\n",
    "        print('До скорой встречи!')\n",
    "\n",
    "\n",
    "game_game()"
   ]
  },
  {
   "cell_type": "code",
   "execution_count": null,
   "id": "2a0e5f10",
   "metadata": {},
   "outputs": [],
   "source": []
  }
 ],
 "metadata": {
  "kernelspec": {
   "display_name": "Python 3 (ipykernel)",
   "language": "python",
   "name": "python3"
  },
  "language_info": {
   "codemirror_mode": {
    "name": "ipython",
    "version": 3
   },
   "file_extension": ".py",
   "mimetype": "text/x-python",
   "name": "python",
   "nbconvert_exporter": "python",
   "pygments_lexer": "ipython3",
   "version": "3.11.5"
  }
 },
 "nbformat": 4,
 "nbformat_minor": 5
}
